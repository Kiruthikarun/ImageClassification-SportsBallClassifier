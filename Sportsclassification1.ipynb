{
  "nbformat": 4,
  "nbformat_minor": 0,
  "metadata": {
    "colab": {
      "provenance": [],
      "gpuType": "T4",
      "toc_visible": true
    },
    "kernelspec": {
      "name": "python3",
      "display_name": "Python 3"
    },
    "language_info": {
      "name": "python"
    },
    "accelerator": "GPU"
  },
  "cells": [
    {
      "cell_type": "code",
      "source": [
        "!git clone https://github.com/Kiruthikarun/SportsBallClassification.git"
      ],
      "metadata": {
        "colab": {
          "base_uri": "https://localhost:8080/"
        },
        "id": "Oif-A1re5NCZ",
        "outputId": "97784751-4bed-4642-bf53-9593c57917e9"
      },
      "execution_count": null,
      "outputs": [
        {
          "output_type": "stream",
          "name": "stdout",
          "text": [
            "Cloning into 'SportsBallClassification'...\n",
            "warning: You appear to have cloned an empty repository.\n"
          ]
        }
      ]
    },
    {
      "cell_type": "code",
      "execution_count": null,
      "metadata": {
        "colab": {
          "base_uri": "https://localhost:8080/"
        },
        "id": "GTgMO7ZISRka",
        "outputId": "3532f302-1d96-440f-cbe2-59f95595a0fc"
      },
      "outputs": [
        {
          "output_type": "stream",
          "name": "stdout",
          "text": [
            "Fri Sep 29 09:41:49 2023       \n",
            "+-----------------------------------------------------------------------------+\n",
            "| NVIDIA-SMI 525.105.17   Driver Version: 525.105.17   CUDA Version: 12.0     |\n",
            "|-------------------------------+----------------------+----------------------+\n",
            "| GPU  Name        Persistence-M| Bus-Id        Disp.A | Volatile Uncorr. ECC |\n",
            "| Fan  Temp  Perf  Pwr:Usage/Cap|         Memory-Usage | GPU-Util  Compute M. |\n",
            "|                               |                      |               MIG M. |\n",
            "|===============================+======================+======================|\n",
            "|   0  Tesla T4            Off  | 00000000:00:04.0 Off |                    0 |\n",
            "| N/A   58C    P8    10W /  70W |      0MiB / 15360MiB |      0%      Default |\n",
            "|                               |                      |                  N/A |\n",
            "+-------------------------------+----------------------+----------------------+\n",
            "                                                                               \n",
            "+-----------------------------------------------------------------------------+\n",
            "| Processes:                                                                  |\n",
            "|  GPU   GI   CI        PID   Type   Process name                  GPU Memory |\n",
            "|        ID   ID                                                   Usage      |\n",
            "|=============================================================================|\n",
            "|  No running processes found                                                 |\n",
            "+-----------------------------------------------------------------------------+\n"
          ]
        }
      ],
      "source": [
        "!nvidia-smi"
      ]
    },
    {
      "cell_type": "code",
      "source": [
        "!pip install tensorflow"
      ],
      "metadata": {
        "id": "VlGQPk5AWUB_"
      },
      "execution_count": null,
      "outputs": []
    },
    {
      "cell_type": "markdown",
      "source": [
        "# **Import Libraries**\n"
      ],
      "metadata": {
        "id": "g15bPYNpWGeA"
      }
    },
    {
      "cell_type": "code",
      "source": [
        "import matplotlib.pyplot as plt\n",
        "import PIL\n",
        "import numpy as np\n",
        "import tensorflow as tf\n",
        "\n",
        "from tensorflow import keras\n",
        "from tensorflow.keras import layers ,models\n",
        "from tensorflow.keras.models import Sequential, load_model, save_model\n",
        "from tensorflow.keras.preprocessing.image import ImageDataGenerator\n",
        "from tensorflow.keras.preprocessing import image\n",
        "\n"
      ],
      "metadata": {
        "id": "RVORAxFtUU0i"
      },
      "execution_count": null,
      "outputs": []
    },
    {
      "cell_type": "markdown",
      "source": [
        "# **Define Dataset directory**"
      ],
      "metadata": {
        "id": "gQJEJ7l7WP0A"
      }
    },
    {
      "cell_type": "code",
      "source": [
        "import pathlib\n",
        "traindata_dir = '/content/drive/MyDrive/Datasets/sports/train'\n",
        "testdata_dir = '/content/drive/MyDrive/Datasets/sports/test'\n"
      ],
      "metadata": {
        "id": "b7Atfq1fVWE9"
      },
      "execution_count": null,
      "outputs": []
    },
    {
      "cell_type": "markdown",
      "source": [
        "# **Define Parameters**"
      ],
      "metadata": {
        "id": "mokNIWQAWTt0"
      }
    },
    {
      "cell_type": "code",
      "source": [
        "batch_size = 32\n",
        "epochs = 150\n",
        "input_shape = (224,224,3)\n",
        "num_classes = 15"
      ],
      "metadata": {
        "id": "2sxT4VdsWCfh"
      },
      "execution_count": null,
      "outputs": []
    },
    {
      "cell_type": "markdown",
      "source": [
        "# **Preprocessing**"
      ],
      "metadata": {
        "id": "S46D-l5QWZKl"
      }
    },
    {
      "cell_type": "code",
      "source": [
        "train_datagen = ImageDataGenerator(\n",
        "    rescale = 1./255,\n",
        "    rotation_range = 20,\n",
        "    width_shift_range = 0.2,\n",
        "    height_shift_range = 0.2,\n",
        "    shear_range = 0.2,\n",
        "    zoom_range = 0.2,\n",
        "    horizontal_flip = True,\n",
        "    fill_mode = 'nearest'\n",
        ")\n",
        "\n",
        "test_datagen = ImageDataGenerator(rescale=1./255)\n",
        "\n",
        "train_generator = train_datagen.flow_from_directory(\n",
        "    traindata_dir,\n",
        "    target_size = input_shape[:2],\n",
        "    batch_size = batch_size,\n",
        "    class_mode = 'categorical'\n",
        ")\n",
        "\n",
        "test_generator = test_datagen.flow_from_directory(\n",
        "    testdata_dir,\n",
        "    target_size = input_shape[:2],\n",
        "    batch_size = batch_size,\n",
        "    class_mode = 'categorical'\n",
        ")"
      ],
      "metadata": {
        "colab": {
          "base_uri": "https://localhost:8080/"
        },
        "id": "bI17X15oWEks",
        "outputId": "05930767-48f0-4fc9-ff6e-02746bf702f3"
      },
      "execution_count": null,
      "outputs": [
        {
          "output_type": "stream",
          "name": "stdout",
          "text": [
            "Found 7328 images belonging to 15 classes.\n",
            "Found 1841 images belonging to 15 classes.\n"
          ]
        }
      ]
    },
    {
      "cell_type": "markdown",
      "source": [
        "#**Define the Model**"
      ],
      "metadata": {
        "id": "RautM6EpZwcU"
      }
    },
    {
      "cell_type": "code",
      "source": [
        "model = models.Sequential([\n",
        "    layers.Conv2D(32,(3,3),activation = 'relu', input_shape=input_shape),\n",
        "    layers.MaxPooling2D((2,2)),\n",
        "    layers.Conv2D(64,(3,3),activation = 'relu'),\n",
        "    layers.MaxPooling2D((2,2)),\n",
        "    layers.Conv2D(128,(3,3),activation = 'relu'),\n",
        "    layers.MaxPooling2D((2,2)),\n",
        "    layers.Flatten(),\n",
        "    layers.Dense(128, activation = 'relu'),\n",
        "    layers.Dropout(0.5),\n",
        "    layers.Dense(num_classes,activation = 'softmax')\n",
        "]\n",
        ")"
      ],
      "metadata": {
        "id": "mWlfUEpoX6qw"
      },
      "execution_count": null,
      "outputs": []
    },
    {
      "cell_type": "markdown",
      "source": [
        "#**Compile Model**"
      ],
      "metadata": {
        "id": "8IZBgxqZbbOI"
      }
    },
    {
      "cell_type": "code",
      "source": [
        "model.compile(optimizer='adam',\n",
        "              loss='categorical_crossentropy',\n",
        "              metrics=['accuracy'])"
      ],
      "metadata": {
        "id": "aD-nqnefbfQB"
      },
      "execution_count": null,
      "outputs": []
    },
    {
      "cell_type": "markdown",
      "source": [
        "# **Train the Model**"
      ],
      "metadata": {
        "id": "6QRDGM7Tbr4s"
      }
    },
    {
      "cell_type": "code",
      "source": [
        "history = model.fit(\n",
        "    train_generator,\n",
        "    steps_per_epoch = train_generator.samples // batch_size,\n",
        "    epochs = epochs,\n",
        "    validation_data = test_generator,\n",
        "    validation_steps = test_generator.samples // batch_size\n",
        ")"
      ],
      "metadata": {
        "id": "rk29u-DOb0qW"
      },
      "execution_count": null,
      "outputs": []
    },
    {
      "cell_type": "markdown",
      "source": [
        "#**Evaluate the Model**\n"
      ],
      "metadata": {
        "id": "ktavg0ScbySs"
      }
    },
    {
      "cell_type": "code",
      "source": [
        "test_loss, test_acc = model.evaluate(test_generator, verbose=2)\n",
        "print(\"\\nTest Accuracy:\" ,test_acc)"
      ],
      "metadata": {
        "id": "AEoWnt9dlA8z"
      },
      "execution_count": null,
      "outputs": []
    },
    {
      "cell_type": "markdown",
      "source": [
        "# **Save Model**"
      ],
      "metadata": {
        "id": "s4v8UNtNsVjw"
      }
    },
    {
      "cell_type": "code",
      "source": [
        "model.save('model.h5')\n",
        "save_model(model, '/content/drive/My Drive/Datasets/model.h5')\n"
      ],
      "metadata": {
        "id": "T4kfmXaGsYMI"
      },
      "execution_count": null,
      "outputs": []
    },
    {
      "cell_type": "code",
      "source": [
        "model = load_model('Sports_Ball_Classifier.h5')\n",
        "class_names = {\n",
        "    0: 'American football',\n",
        "    1: 'Baseball',\n",
        "    2: 'Basketball',\n",
        "    3: 'Billiard ball',\n",
        "    4: 'Bowling ball',\n",
        "    5: 'Cricket ball',\n",
        "    6:'Football',\n",
        "    7:'Golf ball',\n",
        "    8:'Hockey ball',\n",
        "    9:'Hockey puck',\n",
        "    10: 'Rugby ball',\n",
        "    11: 'Shuttlecock',\n",
        "    12: 'Table Tennis Ball',\n",
        "    13: 'Tennis Ball',\n",
        "    14: 'Volleyball'\n",
        "}\n",
        "img_path = '/content/drive/MyDrive/Datasets/download.jpeg'\n",
        "img = image.load_img(img_path , target_size = input_shape[:2])\n",
        "img = image.img_to_array(img)\n",
        "img = np.expand_dims(img,axis = 0)\n",
        "img = img/255.0"
      ],
      "metadata": {
        "id": "iNH5d8gIsqJe"
      },
      "execution_count": null,
      "outputs": []
    },
    {
      "cell_type": "markdown",
      "source": [
        "#**Make Predictions**\n"
      ],
      "metadata": {
        "id": "_2HRlLOwt90W"
      }
    },
    {
      "cell_type": "code",
      "source": [
        "prediction = model.predict(img)"
      ],
      "metadata": {
        "id": "LlAW_tVAuA9l"
      },
      "execution_count": null,
      "outputs": []
    },
    {
      "cell_type": "markdown",
      "source": [
        "Get the predicted class label"
      ],
      "metadata": {
        "id": "NhlFEmEnuE57"
      }
    },
    {
      "cell_type": "code",
      "source": [
        "predicted_class = np.argmax(prediction)\n",
        "predicted_classname = class_names.get(predicted_class,'Unknown')\n",
        "print(f\"Predicted class: {predicted_classname}\")"
      ],
      "metadata": {
        "colab": {
          "base_uri": "https://localhost:8080/"
        },
        "id": "h-PrzdAquKH3",
        "outputId": "40322366-6cd2-493e-f5d1-07d7e81d1559"
      },
      "execution_count": null,
      "outputs": [
        {
          "output_type": "stream",
          "name": "stdout",
          "text": [
            "Predicted class: Foot ball\n"
          ]
        }
      ]
    },
    {
      "cell_type": "markdown",
      "source": [],
      "metadata": {
        "id": "qrIuksoquRQ3"
      }
    }
  ]
}